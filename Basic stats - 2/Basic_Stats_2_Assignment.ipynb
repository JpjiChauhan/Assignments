{
  "nbformat": 4,
  "nbformat_minor": 0,
  "metadata": {
    "colab": {
      "provenance": []
    },
    "kernelspec": {
      "name": "python3",
      "display_name": "Python 3"
    },
    "language_info": {
      "name": "python"
    }
  },
  "cells": [
    {
      "cell_type": "markdown",
      "source": [
        "#**First we import the python library from scientific computation library we import the stats**"
      ],
      "metadata": {
        "id": "sXXkxlv0lQJl"
      }
    },
    {
      "cell_type": "code",
      "execution_count": 4,
      "metadata": {
        "id": "VGlEYCStk8_X"
      },
      "outputs": [],
      "source": [
        "import numpy as np\n",
        "import pandas as pd\n",
        "from scipy import stats"
      ]
    },
    {
      "cell_type": "markdown",
      "source": [
        "# **Given the data is below**"
      ],
      "metadata": {
        "id": "RvBoojXwlYif"
      }
    },
    {
      "cell_type": "code",
      "source": [
        "df =[1.13, 1.55, 1.43, 0.92, 1.25, 1.36, 1.32, 0.85, 1.07, 1.48, 1.20, 1.33, 1.18, 1.22, 1.29]\n",
        "df"
      ],
      "metadata": {
        "colab": {
          "base_uri": "https://localhost:8080/"
        },
        "id": "37YVQoPglZnX",
        "outputId": "a3f9b46e-a473-43e6-ab9f-77a1e7c77456"
      },
      "execution_count": 5,
      "outputs": [
        {
          "output_type": "execute_result",
          "data": {
            "text/plain": [
              "[1.13,\n",
              " 1.55,\n",
              " 1.43,\n",
              " 0.92,\n",
              " 1.25,\n",
              " 1.36,\n",
              " 1.32,\n",
              " 0.85,\n",
              " 1.07,\n",
              " 1.48,\n",
              " 1.2,\n",
              " 1.33,\n",
              " 1.18,\n",
              " 1.22,\n",
              " 1.29]"
            ]
          },
          "metadata": {},
          "execution_count": 5
        }
      ]
    },
    {
      "cell_type": "code",
      "source": [
        "n=len(df)"
      ],
      "metadata": {
        "id": "Mr_wkMUildVo"
      },
      "execution_count": 6,
      "outputs": []
    },
    {
      "cell_type": "code",
      "source": [
        "n"
      ],
      "metadata": {
        "colab": {
          "base_uri": "https://localhost:8080/"
        },
        "id": "fGsMXS8Qle9A",
        "outputId": "ab58f0a3-a3dd-4484-c672-0dbf0a1246b0"
      },
      "execution_count": 7,
      "outputs": [
        {
          "output_type": "execute_result",
          "data": {
            "text/plain": [
              "15"
            ]
          },
          "metadata": {},
          "execution_count": 7
        }
      ]
    },
    {
      "cell_type": "markdown",
      "source": [
        "# **Task a. Build 99% Confidence Interval Using Sample Standard Deviation**"
      ],
      "metadata": {
        "id": "b3n7gIUiliQl"
      }
    },
    {
      "cell_type": "markdown",
      "source": [
        "# **and we calculated the sample mean**"
      ],
      "metadata": {
        "id": "_JiuuPJAlkOz"
      }
    },
    {
      "cell_type": "code",
      "source": [
        "sample_mean=np.mean(df)\n",
        "sample_mean"
      ],
      "metadata": {
        "colab": {
          "base_uri": "https://localhost:8080/"
        },
        "id": "6z0GsrxMlg9b",
        "outputId": "2827d5ac-b69b-4e7e-c4ce-719f2de0e509"
      },
      "execution_count": 8,
      "outputs": [
        {
          "output_type": "execute_result",
          "data": {
            "text/plain": [
              "1.2386666666666666"
            ]
          },
          "metadata": {},
          "execution_count": 8
        }
      ]
    },
    {
      "cell_type": "markdown",
      "source": [
        "# **And also calculated the sample standard devition**"
      ],
      "metadata": {
        "id": "Uz0UpW_5lnWz"
      }
    },
    {
      "cell_type": "code",
      "source": [
        "sample_std_dev=np.std(df)\n",
        "sample_std_dev"
      ],
      "metadata": {
        "colab": {
          "base_uri": "https://localhost:8080/"
        },
        "id": "BGTYuf3clmSm",
        "outputId": "659e4e95-7ddc-494f-911e-abc7090be568"
      },
      "execution_count": 9,
      "outputs": [
        {
          "output_type": "execute_result",
          "data": {
            "text/plain": [
              "0.18661427836285438"
            ]
          },
          "metadata": {},
          "execution_count": 9
        }
      ]
    },
    {
      "cell_type": "markdown",
      "source": [
        "# **And we find the degrees of freedom it means the total number of the data it minus 1**"
      ],
      "metadata": {
        "id": "cDg8UM3clqr0"
      }
    },
    {
      "cell_type": "code",
      "source": [
        "d_f=n-1\n",
        "d_f"
      ],
      "metadata": {
        "colab": {
          "base_uri": "https://localhost:8080/"
        },
        "id": "96M_YkbIlo_x",
        "outputId": "fa5c99b4-2fc4-4a64-9e2e-c8cddb5579c9"
      },
      "execution_count": 10,
      "outputs": [
        {
          "output_type": "execute_result",
          "data": {
            "text/plain": [
              "14"
            ]
          },
          "metadata": {},
          "execution_count": 10
        }
      ]
    },
    {
      "cell_type": "markdown",
      "source": [
        "# **here we calculate the critical value from t-distribution for 99% confidence leve**"
      ],
      "metadata": {
        "id": "ESc91mgClt6s"
      }
    },
    {
      "cell_type": "code",
      "source": [
        "t_critical=stats.t.ppf(0.99,df)\n",
        "t_critical"
      ],
      "metadata": {
        "colab": {
          "base_uri": "https://localhost:8080/"
        },
        "id": "6g6bdBmRlsQ2",
        "outputId": "96d71795-20fe-46f5-e156-bcacbc75a751"
      },
      "execution_count": 11,
      "outputs": [
        {
          "output_type": "execute_result",
          "data": {
            "text/plain": [
              "array([21.94662127, 10.50880338, 12.3427023 , 42.38558208, 16.79511416,\n",
              "       13.76211214, 14.73193776, 57.19127574, 25.73013743, 11.50096869,\n",
              "       18.63962698, 14.47696936, 19.48701023, 17.85814436, 15.5526357 ])"
            ]
          },
          "metadata": {},
          "execution_count": 11
        }
      ]
    },
    {
      "cell_type": "markdown",
      "source": [
        "# **here i calculate margin of error**"
      ],
      "metadata": {
        "id": "HhSu7Gk0lwnt"
      }
    },
    {
      "cell_type": "code",
      "source": [
        "margin_of_error=t_critical*(sample_std_dev/np.sqrt(n))\n",
        "margin_of_error"
      ],
      "metadata": {
        "colab": {
          "base_uri": "https://localhost:8080/"
        },
        "id": "r602zmLIlvn_",
        "outputId": "a244174a-faa6-4614-ddc0-1cf719723169"
      },
      "execution_count": 12,
      "outputs": [
        {
          "output_type": "execute_result",
          "data": {
            "text/plain": [
              "array([1.05746721, 0.50635197, 0.59471582, 2.04228991, 0.80924905,\n",
              "       0.6631081 , 0.70983779, 2.75568152, 1.23977064, 0.55415807,\n",
              "       0.89812432, 0.69755249, 0.9389543 , 0.86046968, 0.74938197])"
            ]
          },
          "metadata": {},
          "execution_count": 12
        }
      ]
    },
    {
      "cell_type": "code",
      "source": [
        "sample_mean-margin_of_error"
      ],
      "metadata": {
        "colab": {
          "base_uri": "https://localhost:8080/"
        },
        "id": "6IVQd-V0lzK3",
        "outputId": "d0cbc860-1bf1-44c5-f1ea-1052e3485392"
      },
      "execution_count": 13,
      "outputs": [
        {
          "output_type": "execute_result",
          "data": {
            "text/plain": [
              "array([ 1.81199458e-01,  7.32314694e-01,  6.43950843e-01, -8.03623244e-01,\n",
              "        4.29417613e-01,  5.75558567e-01,  5.28828878e-01, -1.51701486e+00,\n",
              "       -1.10396972e-03,  6.84508597e-01,  3.40542346e-01,  5.41114173e-01,\n",
              "        2.99712370e-01,  3.78196991e-01,  4.89284697e-01])"
            ]
          },
          "metadata": {},
          "execution_count": 13
        }
      ]
    },
    {
      "cell_type": "code",
      "source": [
        "sample_mean+margin_of_error"
      ],
      "metadata": {
        "colab": {
          "base_uri": "https://localhost:8080/"
        },
        "id": "S_QwkC1dl0Y4",
        "outputId": "f3a83a7e-c256-4ef5-e803-b30183a67484"
      },
      "execution_count": 14,
      "outputs": [
        {
          "output_type": "execute_result",
          "data": {
            "text/plain": [
              "array([2.29613388, 1.74501864, 1.83338249, 3.28095658, 2.04791572,\n",
              "       1.90177477, 1.94850446, 3.99434819, 2.4784373 , 1.79282474,\n",
              "       2.13679099, 1.93621916, 2.17762096, 2.09913634, 1.98804864])"
            ]
          },
          "metadata": {},
          "execution_count": 14
        }
      ]
    },
    {
      "cell_type": "markdown",
      "source": [
        "# **Confidence interval Calculation**"
      ],
      "metadata": {
        "id": "-roUWwTwl2h8"
      }
    },
    {
      "cell_type": "code",
      "source": [
        "confidence_interval=(sample_mean-margin_of_error,sample_mean+margin_of_error)\n",
        "confidence_interval"
      ],
      "metadata": {
        "colab": {
          "base_uri": "https://localhost:8080/"
        },
        "id": "Ps554i0Cl11c",
        "outputId": "4dd067f7-8479-4589-9879-1677f6b23a62"
      },
      "execution_count": 15,
      "outputs": [
        {
          "output_type": "execute_result",
          "data": {
            "text/plain": [
              "(array([ 1.81199458e-01,  7.32314694e-01,  6.43950843e-01, -8.03623244e-01,\n",
              "         4.29417613e-01,  5.75558567e-01,  5.28828878e-01, -1.51701486e+00,\n",
              "        -1.10396972e-03,  6.84508597e-01,  3.40542346e-01,  5.41114173e-01,\n",
              "         2.99712370e-01,  3.78196991e-01,  4.89284697e-01]),\n",
              " array([2.29613388, 1.74501864, 1.83338249, 3.28095658, 2.04791572,\n",
              "        1.90177477, 1.94850446, 3.99434819, 2.4784373 , 1.79282474,\n",
              "        2.13679099, 1.93621916, 2.17762096, 2.09913634, 1.98804864]))"
            ]
          },
          "metadata": {},
          "execution_count": 15
        }
      ]
    },
    {
      "cell_type": "code",
      "source": [
        "print('Task a:--Build 99% Confidence Interval Using Sample Standard Deviation')\n",
        "print('\\n')\n",
        "print('Sample Mean:--',sample_mean)\n",
        "print('\\n')\n",
        "print('Sample standard devition :--',sample_std_dev)\n",
        "print('\\n')\n",
        "print('Confidence Interval:--',confidence_interval)\n",
        "print('\\n')"
      ],
      "metadata": {
        "colab": {
          "base_uri": "https://localhost:8080/"
        },
        "id": "uVwSyQK8soin",
        "outputId": "0ee5332e-e5c0-4959-a748-5c0c25197fc4"
      },
      "execution_count": 16,
      "outputs": [
        {
          "output_type": "stream",
          "name": "stdout",
          "text": [
            "Task a:--Build 99% Confidence Interval Using Sample Standard Deviation\n",
            "\n",
            "\n",
            "Sample Mean:-- 1.2386666666666666\n",
            "\n",
            "\n",
            "Sample standard devition :-- 0.18661427836285438\n",
            "\n",
            "\n",
            "Confidence Interval:-- (array([ 1.81199458e-01,  7.32314694e-01,  6.43950843e-01, -8.03623244e-01,\n",
            "        4.29417613e-01,  5.75558567e-01,  5.28828878e-01, -1.51701486e+00,\n",
            "       -1.10396972e-03,  6.84508597e-01,  3.40542346e-01,  5.41114173e-01,\n",
            "        2.99712370e-01,  3.78196991e-01,  4.89284697e-01]), array([2.29613388, 1.74501864, 1.83338249, 3.28095658, 2.04791572,\n",
            "       1.90177477, 1.94850446, 3.99434819, 2.4784373 , 1.79282474,\n",
            "       2.13679099, 1.93621916, 2.17762096, 2.09913634, 1.98804864]))\n",
            "\n",
            "\n"
          ]
        }
      ]
    },
    {
      "cell_type": "markdown",
      "source": [
        "# **Task b. Build 99% Confidence Interval Using Known Population Standard Deviation**"
      ],
      "metadata": {
        "id": "ooDOrKPcsrZl"
      }
    },
    {
      "cell_type": "markdown",
      "source": [
        "# **Given population standard deviation**"
      ],
      "metadata": {
        "id": "F37s525SstjG"
      }
    },
    {
      "cell_type": "code",
      "source": [
        "population_std_dev=0.2\n",
        "population_std_dev"
      ],
      "metadata": {
        "colab": {
          "base_uri": "https://localhost:8080/"
        },
        "id": "DERUjTEYspy6",
        "outputId": "719fd418-f712-4654-a1ad-ac69ea12da7c"
      },
      "execution_count": 17,
      "outputs": [
        {
          "output_type": "execute_result",
          "data": {
            "text/plain": [
              "0.2"
            ]
          },
          "metadata": {},
          "execution_count": 17
        }
      ]
    },
    {
      "cell_type": "markdown",
      "source": [
        "# **Critical value from z-distribution for 99% confidence level**"
      ],
      "metadata": {
        "id": "w16iCvjvs2cp"
      }
    },
    {
      "cell_type": "code",
      "source": [
        "z_critical=stats.norm.ppf(0.99)\n",
        "z_critical"
      ],
      "metadata": {
        "colab": {
          "base_uri": "https://localhost:8080/"
        },
        "id": "Qs6GUwzMsu9v",
        "outputId": "a964ae5f-a8ce-41e1-ed5b-b41ff49a6eca"
      },
      "execution_count": 18,
      "outputs": [
        {
          "output_type": "execute_result",
          "data": {
            "text/plain": [
              "2.3263478740408408"
            ]
          },
          "metadata": {},
          "execution_count": 18
        }
      ]
    },
    {
      "cell_type": "code",
      "source": [
        "margin_error=z_critical*(population_std_dev/np.sqrt(n))\n",
        "margin_error"
      ],
      "metadata": {
        "colab": {
          "base_uri": "https://localhost:8080/"
        },
        "id": "AjuL9LvMs44W",
        "outputId": "77e2261a-4bb8-4adf-c91e-2a377814b8f8"
      },
      "execution_count": 19,
      "outputs": [
        {
          "output_type": "execute_result",
          "data": {
            "text/plain": [
              "0.12013208764860274"
            ]
          },
          "metadata": {},
          "execution_count": 19
        }
      ]
    },
    {
      "cell_type": "code",
      "source": [
        "sample_mean-margin_error"
      ],
      "metadata": {
        "colab": {
          "base_uri": "https://localhost:8080/"
        },
        "id": "OVUjhWWRs6Jn",
        "outputId": "19951625-65c0-4987-c013-35aafb0bbf23"
      },
      "execution_count": 20,
      "outputs": [
        {
          "output_type": "execute_result",
          "data": {
            "text/plain": [
              "1.1185345790180639"
            ]
          },
          "metadata": {},
          "execution_count": 20
        }
      ]
    },
    {
      "cell_type": "markdown",
      "source": [
        "# **Confidence Interval Calculation**"
      ],
      "metadata": {
        "id": "7pRcozk-s9DB"
      }
    },
    {
      "cell_type": "code",
      "source": [
        "confidence_i=(sample_mean-margin_error,sample_mean+margin_error)\n",
        "confidence_i"
      ],
      "metadata": {
        "colab": {
          "base_uri": "https://localhost:8080/"
        },
        "id": "rivRsk9ps7bm",
        "outputId": "2c6fe728-264b-4f4d-e3c4-efec3ee0466b"
      },
      "execution_count": 21,
      "outputs": [
        {
          "output_type": "execute_result",
          "data": {
            "text/plain": [
              "(1.1185345790180639, 1.3587987543152693)"
            ]
          },
          "metadata": {},
          "execution_count": 21
        }
      ]
    },
    {
      "cell_type": "code",
      "source": [
        "print('Task b. Build 99% Confidence Interval Using Known Population Standard Deviation')\n",
        "print('\\n')\n",
        "print('Sample Mean:--',sample_mean)\n",
        "print('\\n')\n",
        "print('Population Standard Devition:--',population_std_dev)\n",
        "print('\\n')\n",
        "print('Confidence Interval:--',confidence_i)"
      ],
      "metadata": {
        "colab": {
          "base_uri": "https://localhost:8080/"
        },
        "id": "jcdXf8v1s-r5",
        "outputId": "9e2dbb4e-aafd-48f3-aecd-b6ab5c27d723"
      },
      "execution_count": 22,
      "outputs": [
        {
          "output_type": "stream",
          "name": "stdout",
          "text": [
            "Task b. Build 99% Confidence Interval Using Known Population Standard Deviation\n",
            "\n",
            "\n",
            "Sample Mean:-- 1.2386666666666666\n",
            "\n",
            "\n",
            "Population Standard Devition:-- 0.2\n",
            "\n",
            "\n",
            "Confidence Interval:-- (1.1185345790180639, 1.3587987543152693)\n"
          ]
        }
      ]
    },
    {
      "cell_type": "code",
      "source": [],
      "metadata": {
        "id": "cQLa0GiitACZ"
      },
      "execution_count": null,
      "outputs": []
    }
  ]
}