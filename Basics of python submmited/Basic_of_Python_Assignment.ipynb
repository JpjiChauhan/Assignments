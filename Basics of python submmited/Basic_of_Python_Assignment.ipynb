{
  "nbformat": 4,
  "nbformat_minor": 0,
  "metadata": {
    "colab": {
      "provenance": []
    },
    "kernelspec": {
      "name": "python3",
      "display_name": "Python 3"
    },
    "language_info": {
      "name": "python"
    }
  },
  "cells": [
    {
      "cell_type": "markdown",
      "source": [
        "Exercise 1: Prime Numbers\n",
        "\n",
        "Write a Python program that checks whether a given number is prime or not. A prime number is a natural number greater than 1 that has no positive divisors other than 1 and itself."
      ],
      "metadata": {
        "id": "yS3-37hD2t3D"
      }
    },
    {
      "cell_type": "code",
      "source": [
        "#a=int(input(\"Enter the Number: \"))\n",
        "num=100\n",
        "for i in range(2,num+1):\n",
        "  if (num % i) ==0:\n",
        "      print(num,\"is not Prime number\")\n",
        "      break\n",
        "  else:\n",
        "      print(num,\"is Prime number\")"
      ],
      "metadata": {
        "colab": {
          "base_uri": "https://localhost:8080/"
        },
        "id": "e2er7Gix2xpq",
        "outputId": "9bfcde42-16fd-44b9-8f2a-dadc337eb959"
      },
      "execution_count": null,
      "outputs": [
        {
          "output_type": "stream",
          "name": "stdout",
          "text": [
            "100 is not Prime number\n"
          ]
        }
      ]
    },
    {
      "cell_type": "markdown",
      "source": [
        "Exercise 2: Product of Random Numbers\n",
        "\n",
        "Develop a Python program that generates two random numbers and asks the user to enter the product of these numbers. The program should then check if the user's answer is correct and display an appropriate message."
      ],
      "metadata": {
        "id": "rLmjYM2G-0jl"
      }
    },
    {
      "cell_type": "code",
      "source": [
        "import random\n",
        "a=random.randint(1,10)\n",
        "b=random.randint(1,10)\n",
        "print(a)\n",
        "print(b)\n",
        "prod=int(input(\"Product Of this number: \"))\n",
        "if a*b==prod:\n",
        "  print(\"Correct Ans\")\n",
        "else:\n",
        "  print(\"Enter the wrong ans\")"
      ],
      "metadata": {
        "colab": {
          "base_uri": "https://localhost:8080/"
        },
        "id": "wAGy3v3244-e",
        "outputId": "bc0b7046-800e-4ad4-e962-62f0788521bb"
      },
      "execution_count": null,
      "outputs": [
        {
          "output_type": "stream",
          "name": "stdout",
          "text": [
            "4\n",
            "10\n",
            "Product Of this number: 40\n",
            "Correct Ans\n"
          ]
        }
      ]
    },
    {
      "cell_type": "markdown",
      "source": [
        "Exercise 3: Squares of Even/Odd Numbers\n",
        "\n",
        "Create a Python script that prints the squares of all even or odd numbers within the range of 100 to 200. Choose either even or odd numbers and document your choice in the code.\n"
      ],
      "metadata": {
        "id": "wZWkIlIWEKtV"
      }
    },
    {
      "cell_type": "code",
      "source": [
        "a=input(\"Enter your Choise: \")\n",
        "if a==\"Even\":\n",
        "  for i in range(100,201):\n",
        "    if i%2==0:\n",
        "      print(\"Squre of even \",i,\" is :\",i*i)\n",
        "\n",
        "elif a==\"Odd\":\n",
        "  for i in range(100,201):\n",
        "    if i%2!=0:\n",
        "      print(\"Squre of odd \",i,\" is :\",i*i)\n"
      ],
      "metadata": {
        "colab": {
          "base_uri": "https://localhost:8080/"
        },
        "id": "COx4qs3xBEnI",
        "outputId": "b48ce999-adb0-42bd-aeb8-dddcd4d5876f"
      },
      "execution_count": null,
      "outputs": [
        {
          "output_type": "stream",
          "name": "stdout",
          "text": [
            "Enter your Choise: Odd\n",
            "Squre of odd  101  is : 10201\n",
            "Squre of odd  103  is : 10609\n",
            "Squre of odd  105  is : 11025\n",
            "Squre of odd  107  is : 11449\n",
            "Squre of odd  109  is : 11881\n",
            "Squre of odd  111  is : 12321\n",
            "Squre of odd  113  is : 12769\n",
            "Squre of odd  115  is : 13225\n",
            "Squre of odd  117  is : 13689\n",
            "Squre of odd  119  is : 14161\n",
            "Squre of odd  121  is : 14641\n",
            "Squre of odd  123  is : 15129\n",
            "Squre of odd  125  is : 15625\n",
            "Squre of odd  127  is : 16129\n",
            "Squre of odd  129  is : 16641\n",
            "Squre of odd  131  is : 17161\n",
            "Squre of odd  133  is : 17689\n",
            "Squre of odd  135  is : 18225\n",
            "Squre of odd  137  is : 18769\n",
            "Squre of odd  139  is : 19321\n",
            "Squre of odd  141  is : 19881\n",
            "Squre of odd  143  is : 20449\n",
            "Squre of odd  145  is : 21025\n",
            "Squre of odd  147  is : 21609\n",
            "Squre of odd  149  is : 22201\n",
            "Squre of odd  151  is : 22801\n",
            "Squre of odd  153  is : 23409\n",
            "Squre of odd  155  is : 24025\n",
            "Squre of odd  157  is : 24649\n",
            "Squre of odd  159  is : 25281\n",
            "Squre of odd  161  is : 25921\n",
            "Squre of odd  163  is : 26569\n",
            "Squre of odd  165  is : 27225\n",
            "Squre of odd  167  is : 27889\n",
            "Squre of odd  169  is : 28561\n",
            "Squre of odd  171  is : 29241\n",
            "Squre of odd  173  is : 29929\n",
            "Squre of odd  175  is : 30625\n",
            "Squre of odd  177  is : 31329\n",
            "Squre of odd  179  is : 32041\n",
            "Squre of odd  181  is : 32761\n",
            "Squre of odd  183  is : 33489\n",
            "Squre of odd  185  is : 34225\n",
            "Squre of odd  187  is : 34969\n",
            "Squre of odd  189  is : 35721\n",
            "Squre of odd  191  is : 36481\n",
            "Squre of odd  193  is : 37249\n",
            "Squre of odd  195  is : 38025\n",
            "Squre of odd  197  is : 38809\n",
            "Squre of odd  199  is : 39601\n"
          ]
        }
      ]
    },
    {
      "cell_type": "markdown",
      "source": [
        "Exercise 4: Word counter\n",
        "\n",
        "write a program to count the number of words in a given text.\n",
        "example:\n",
        "input_text = \"This is a sample text. This text will be used to demonstrate the word counter.\"\n",
        "Expected output:\n",
        "'This': 2\n",
        "'is': 1\n",
        "'a': 1\n",
        "'sample': 1\n",
        "'text.': 1\n"
      ],
      "metadata": {
        "id": "PLSgv1vJNUhw"
      }
    },
    {
      "cell_type": "code",
      "source": [
        "input_text= \"This is a sample text. This text will be used to demonstrate the word counter.\"\n",
        "word_count={}\n",
        "for word in input_text.split():\n",
        "        word_count[word]=word_count.get(word,0)+1\n",
        "for word,count in word_count.items():\n",
        "    print(f\"{word}: {count}\")"
      ],
      "metadata": {
        "id": "OqePHhjHI1qT",
        "colab": {
          "base_uri": "https://localhost:8080/"
        },
        "outputId": "ddab2a3c-9ea6-4c97-b4b3-ba0cc3552166"
      },
      "execution_count": 4,
      "outputs": [
        {
          "output_type": "stream",
          "name": "stdout",
          "text": [
            "This: 2\n",
            "is: 1\n",
            "a: 1\n",
            "sample: 1\n",
            "text.: 1\n",
            "text: 1\n",
            "will: 1\n",
            "be: 1\n",
            "used: 1\n",
            "to: 1\n",
            "demonstrate: 1\n",
            "the: 1\n",
            "word: 1\n",
            "counter.: 1\n"
          ]
        }
      ]
    },
    {
      "cell_type": "markdown",
      "source": [
        "Exercise 5: Check for Palindrome\n",
        "\n",
        "Write a Python function called is_palindrome that takes a string as input and returns True if the string is a palindrome, and False otherwise. A palindrome is a word, phrase, number, or other sequence of characters that reads the same forward and backward, ignoring spaces, punctuation, and capitalization.\n"
      ],
      "metadata": {
        "id": "6YESSk76yEU5"
      }
    },
    {
      "cell_type": "code",
      "source": [
        "word=input(\"Enter a word: \")\n",
        "reverse = word[::-1]\n",
        "if reverse == word:\n",
        "    print(\"True\")\n",
        "else:\n",
        "    print(\"False\")"
      ],
      "metadata": {
        "colab": {
          "base_uri": "https://localhost:8080/"
        },
        "id": "fnRXEtjPxtiq",
        "outputId": "854b25c9-7759-4bb7-b57b-dd5fafc28d72"
      },
      "execution_count": null,
      "outputs": [
        {
          "output_type": "stream",
          "name": "stdout",
          "text": [
            "Enter a word: Jaypal\n",
            "False\n"
          ]
        }
      ]
    },
    {
      "cell_type": "code",
      "source": [
        "word=input(\"Enter a word: \")\n",
        "reverse = word[::-1]\n",
        "if reverse == word:\n",
        "    print(\"True\")\n",
        "else:\n",
        "    print(\"False\")"
      ],
      "metadata": {
        "colab": {
          "base_uri": "https://localhost:8080/"
        },
        "id": "P0hINHdmyI4O",
        "outputId": "1e63456c-0c56-431a-80be-f7a2c05b1145"
      },
      "execution_count": null,
      "outputs": [
        {
          "output_type": "stream",
          "name": "stdout",
          "text": [
            "Enter a word: racecar\n",
            "True\n"
          ]
        }
      ]
    },
    {
      "cell_type": "code",
      "source": [],
      "metadata": {
        "id": "8xBs1LZvynJp"
      },
      "execution_count": null,
      "outputs": []
    }
  ]
}